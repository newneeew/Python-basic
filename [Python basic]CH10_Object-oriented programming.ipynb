{
 "cells": [
  {
   "cell_type": "markdown",
   "metadata": {},
   "source": [
    "# 10. 객체지향 프로그래밍"
   ]
  },
  {
   "cell_type": "markdown",
   "metadata": {},
   "source": [
    "### 1."
   ]
  },
  {
   "cell_type": "markdown",
   "metadata": {},
   "source": [
    "#### 답 : 4번  \n",
    "\n",
    "클래스에서 함수(function)의 추가는 self를 매개변수에 대입한다는 점에서 기존 함수와 차이점이 존재한다."
   ]
  },
  {
   "cell_type": "markdown",
   "metadata": {},
   "source": [
    "### 2. "
   ]
  },
  {
   "cell_type": "markdown",
   "metadata": {},
   "source": [
    "#### 답 : SyntaxError"
   ]
  },
  {
   "cell_type": "code",
   "execution_count": 4,
   "metadata": {},
   "outputs": [],
   "source": [
    "class Person(object):\n",
    "    def __init__(self, name):\n",
    "        self.name = name\n",
    "        \n",
    "    def language(self):\n",
    "        pass\n",
    "    \n",
    "class Earthling(Person):\n",
    "    def language(self, language):\n",
    "        return language\n",
    "    \n",
    "class Groot(Person):\n",
    "    def language(self, language):\n",
    "        return \"I'm Groot!\""
   ]
  },
  {
   "cell_type": "code",
   "execution_count": 1,
   "metadata": {},
   "outputs": [
    {
     "ename": "SyntaxError",
     "evalue": "invalid syntax (<ipython-input-1-431c63579125>, line 10)",
     "output_type": "error",
     "traceback": [
      "\u001b[1;36m  File \u001b[1;32m\"<ipython-input-1-431c63579125>\"\u001b[1;36m, line \u001b[1;32m10\u001b[0m\n\u001b[1;33m    else:\u001b[0m\n\u001b[1;37m       ^\u001b[0m\n\u001b[1;31mSyntaxError\u001b[0m\u001b[1;31m:\u001b[0m invalid syntax\n"
     ]
    }
   ],
   "source": [
    "name = ['Gachon', 'Dr.Strange', 'Groot']\n",
    "country = ['Korea', 'USA', 'Galaxy']\n",
    "language = ['Korean', 'English', 'Groot']\n",
    "\n",
    "for idx, name in enumerate(name):\n",
    "    if country[idx].upper()!='GALAXY':\n",
    "        person = Earthling(name)\n",
    "    print(person.language(language[idx]))\n",
    "    \n",
    "    else:\n",
    "        groot=Groot(name)\n",
    "        print(groot.language(language[idx]))"
   ]
  },
  {
   "cell_type": "markdown",
   "metadata": {},
   "source": [
    "* if와 else 문 사이에 다른 구문이 존재할 때, 상호간의 관계성이 깨져 SyntaxError 발생\n",
    "* if와 else 사이에 다른 코드 삽입 불가  \n",
    "\n",
    "print문(8행)이 들여쓰기가 되었을 때, 결과는 다음과 같다.  \n"
   ]
  },
  {
   "cell_type": "code",
   "execution_count": 10,
   "metadata": {},
   "outputs": [
    {
     "name": "stdout",
     "output_type": "stream",
     "text": [
      "Korean\n",
      "English\n",
      "I'm Groot!\n"
     ]
    }
   ],
   "source": [
    "name = ['Gachon', 'Dr.Strange', 'Groot']\n",
    "country = ['Korea', 'USA', 'Galaxy']\n",
    "language = ['Korean', 'English', 'Groot']\n",
    "\n",
    "for idx, name in enumerate(name):\n",
    "    if country[idx].upper()!='GALAXY':\n",
    "        person = Earthling(name)\n",
    "        print(person.language(language[idx]))\n",
    "    \n",
    "    else:\n",
    "        groot=Groot(name)\n",
    "        print(groot.language(language[idx]))"
   ]
  },
  {
   "cell_type": "markdown",
   "metadata": {},
   "source": [
    "### 3."
   ]
  },
  {
   "cell_type": "markdown",
   "metadata": {},
   "source": [
    "#### 답 : 1번  \n",
    "main.py에 factorial_calculator 모듈의 정보가 없으므로 NameError가 발생"
   ]
  },
  {
   "cell_type": "code",
   "execution_count": 13,
   "metadata": {},
   "outputs": [
    {
     "name": "stdout",
     "output_type": "stream",
     "text": [
      "Overwriting factorial_calculator.py\n"
     ]
    }
   ],
   "source": [
    "%%writefile factorial_calculator.py\n",
    "#print(\"import calculator\")\n",
    "def factorial(n):\n",
    "    if n==0:\n",
    "        return 1\n",
    "    else:\n",
    "        return (n*factorial(n-1))"
   ]
  },
  {
   "cell_type": "code",
   "execution_count": 3,
   "metadata": {
    "scrolled": false
   },
   "outputs": [
    {
     "ename": "NameError",
     "evalue": "name 'factorial_calculator' is not defined",
     "output_type": "error",
     "traceback": [
      "\u001b[1;31m---------------------------------------------------------------------------\u001b[0m",
      "\u001b[1;31mNameError\u001b[0m                                 Traceback (most recent call last)",
      "\u001b[1;32m<ipython-input-3-b20f3e3d5e6e>\u001b[0m in \u001b[0;36m<module>\u001b[1;34m\u001b[0m\n\u001b[0;32m      1\u001b[0m \u001b[1;32mfrom\u001b[0m \u001b[0mfactorial_calculator\u001b[0m \u001b[1;32mimport\u001b[0m \u001b[0mfactorial\u001b[0m\u001b[1;33m\u001b[0m\u001b[1;33m\u001b[0m\u001b[0m\n\u001b[1;32m----> 2\u001b[1;33m \u001b[0mprint\u001b[0m\u001b[1;33m(\u001b[0m\u001b[0mfactorial_calculator\u001b[0m\u001b[1;33m.\u001b[0m\u001b[0mfactorial\u001b[0m\u001b[1;33m(\u001b[0m\u001b[1;36m6\u001b[0m\u001b[1;33m)\u001b[0m\u001b[1;33m)\u001b[0m\u001b[1;33m\u001b[0m\u001b[1;33m\u001b[0m\u001b[0m\n\u001b[0m",
      "\u001b[1;31mNameError\u001b[0m: name 'factorial_calculator' is not defined"
     ]
    }
   ],
   "source": [
    "from factorial_calculator import factorial\n",
    "print(factorial_calculator.factorial(6))"
   ]
  },
  {
   "cell_type": "markdown",
   "metadata": {},
   "source": [
    "에러를 고치는 방법은 크게 두 가지가 있다.  \n",
    "  \n",
    "- 1. import한 함수 정보만 사용\n",
    "- 2. 모듈 전체를 import"
   ]
  },
  {
   "cell_type": "code",
   "execution_count": 6,
   "metadata": {},
   "outputs": [
    {
     "name": "stdout",
     "output_type": "stream",
     "text": [
      "720\n"
     ]
    }
   ],
   "source": [
    "# 1번 방법\n",
    "from factorial_calculator import factorial\n",
    "print(factorial(6))"
   ]
  },
  {
   "cell_type": "code",
   "execution_count": 7,
   "metadata": {},
   "outputs": [
    {
     "name": "stdout",
     "output_type": "stream",
     "text": [
      "720\n"
     ]
    }
   ],
   "source": [
    "# 2번 방법\n",
    "import factorial_calculator\n",
    "print(factorial_calculator.factorial(6))"
   ]
  },
  {
   "cell_type": "markdown",
   "metadata": {},
   "source": [
    "### 4."
   ]
  },
  {
   "cell_type": "markdown",
   "metadata": {},
   "source": [
    "#### 답 :   \n",
    "#### 현재 선수의 등번호는: 10\n",
    "#### 현재 선수의 등번호는: 5"
   ]
  },
  {
   "cell_type": "code",
   "execution_count": 9,
   "metadata": {},
   "outputs": [],
   "source": [
    "class SoccerPlayer(object):\n",
    "    def __init__(self, name, position, back_number):\n",
    "        self.name = name\n",
    "        self.position=position\n",
    "        self.back_number = back_number\n",
    "        \n",
    "    def change_back_number(self, back_number):\n",
    "        self.back_number = back_number"
   ]
  },
  {
   "cell_type": "code",
   "execution_count": 11,
   "metadata": {},
   "outputs": [
    {
     "name": "stdout",
     "output_type": "stream",
     "text": [
      "현재 선수의 등번호는: 10\n",
      "현재 선수의 등번호는: 5\n"
     ]
    }
   ],
   "source": [
    "jinhyun = SoccerPlayer(\"jinhyun\", \"MF\", 10)\n",
    "print(\"현재 선수의 등번호는:\", jinhyun.back_number)\n",
    "jinhyun.change_back_number(5)\n",
    "print(\"현재 선수의 등번호는:\", jinhyun.back_number)"
   ]
  },
  {
   "cell_type": "markdown",
   "metadata": {},
   "source": [
    "### 5.\n",
    "#### 답 : 3번"
   ]
  },
  {
   "cell_type": "markdown",
   "metadata": {},
   "source": [
    "### 6.  \n",
    "\n",
    "####  답: (가) class, (나) instance"
   ]
  },
  {
   "cell_type": "markdown",
   "metadata": {},
   "source": [
    "### 7.\n",
    "#### 답: My name is Thanos and my weapon is Infinity gauntlet. "
   ]
  },
  {
   "cell_type": "code",
   "execution_count": 17,
   "metadata": {},
   "outputs": [
    {
     "name": "stdout",
     "output_type": "stream",
     "text": [
      "My name is Thanos and my weapon is Infinity gauntlet.\n"
     ]
    }
   ],
   "source": [
    "class Marvel(object):\n",
    "    def __init__(self, name, characteristic):\n",
    "        self.name = name\n",
    "        self.characteristic = characteristic\n",
    "    def __str__(self):\n",
    "        return \"My name is {0} and my weapon is {1}.\".format(self.name, self.characteristic)\n",
    "    \n",
    "class Villain(Marvel):\n",
    "    pass\n",
    "\n",
    "first_villain = Villain(\"Thanos\", \"Infinity gauntlet\")\n",
    "print(first_villain)"
   ]
  },
  {
   "cell_type": "markdown",
   "metadata": {},
   "source": [
    "### 8.\n",
    "#### 답: \n",
    "#### LG에서 만든 2019년형 32인치 TV\n",
    "#### Samsung에서 만든 2018년형 15인치 노트북"
   ]
  },
  {
   "cell_type": "code",
   "execution_count": 20,
   "metadata": {},
   "outputs": [],
   "source": [
    "class TV(object):\n",
    "    def __init__(self, size, year, company):\n",
    "        self.size = size\n",
    "        self.year = year\n",
    "        self.company = company\n",
    "    def describe(self):\n",
    "        print(self.company + \"에서 만든 \"+ self.year + \"년형 \" + self.size + \"인치 \" \"TV\")\n",
    "    \n",
    "class Laptop(TV):\n",
    "    def describe(self):\n",
    "        print(self.company + \"에서 만든 \"+ self.year + \"년형 \" + self.size + \"인치 \" \"노트북\")"
   ]
  },
  {
   "cell_type": "code",
   "execution_count": 21,
   "metadata": {},
   "outputs": [
    {
     "name": "stdout",
     "output_type": "stream",
     "text": [
      "LG에서 만든 2019년형 32인치 TV\n",
      "Samsung에서 만든 2018년형 15인치 노트북\n"
     ]
    }
   ],
   "source": [
    "LG_TV = TV(\"32\", \"2019\", \"LG\")\n",
    "LG_TV.describe()\n",
    "\n",
    "samsung_microwave = Laptop(\"15\", \"2018\", \"Samsung\")\n",
    "samsung_microwave.describe()"
   ]
  },
  {
   "cell_type": "markdown",
   "metadata": {},
   "source": [
    "### 9.\n",
    "#### 답 :  (1)결과 참고  (2) 상속, 다형성"
   ]
  },
  {
   "cell_type": "code",
   "execution_count": 57,
   "metadata": {},
   "outputs": [],
   "source": [
    "class Person:\n",
    "    def __init__(self, name, age, position):\n",
    "        self.Name = name\n",
    "        self.Age = age\n",
    "        self.Position = position\n",
    "    def show_info(self):\n",
    "        print(\"이름:{}\".format(self.Name))\n",
    "        print(\"나이:{}\".format(self.Age))\n",
    "        print(\"직위:{}\".format(self.Position))\n",
    "        print(\"저는 가천대학교 연구소 {0} {1} 입니다. 나이는 {2} 입니다.\".format(self.Position, self.Name, self.Age))\n",
    "        \n",
    "class Researcher(Person):\n",
    "    def __init__(self, name, age, position, degree):\n",
    "        Person.__init__(self, name, age, position)\n",
    "        #super().__init__(name, age, position)\n",
    "        self.Degree = degree\n",
    "    def show_info(self):\n",
    "        Person.show_info(self)\n",
    "        print(\"저는 {} 입니다.\".format(self.Degree))"
   ]
  },
  {
   "cell_type": "code",
   "execution_count": 58,
   "metadata": {},
   "outputs": [
    {
     "name": "stdout",
     "output_type": "stream",
     "text": [
      "이름:John\n",
      "나이:22\n",
      "직위:연구원\n",
      "저는 가천대학교 연구소 연구원 John 입니다. 나이는 22 입니다.\n",
      "저는 학사 입니다.\n",
      "==================================================\n",
      "이름:Tedd\n",
      "나이:40\n",
      "직위:소장\n",
      "저는 가천대학교 연구소 소장 Tedd 입니다. 나이는 40 입니다.\n",
      "저는 박사 입니다.\n"
     ]
    }
   ],
   "source": [
    "if __name__ == '__main__':\n",
    "    researcher_john = Researcher(\"John\", \"22\", \"연구원\", \"학사\")\n",
    "    researcher_tedd = Researcher(\"Tedd\", \"40\", \"소장\", \"박사\")\n",
    "    researcher_john.show_info()\n",
    "    print(\"=\"*50)\n",
    "    researcher_tedd.show_info()"
   ]
  },
  {
   "cell_type": "markdown",
   "metadata": {},
   "source": [
    "### 10.\n",
    "#### 답: None F 72.0 F"
   ]
  },
  {
   "cell_type": "code",
   "execution_count": 32,
   "metadata": {},
   "outputs": [],
   "source": [
    "class Score:\n",
    "    def __init__(self, student):\n",
    "        tmp = student.split(\",\")\n",
    "        self.name = tmp[0]\n",
    "        self.midterm = int(tmp[1])\n",
    "        self.final = int(tmp[2])\n",
    "        self.assignment = int(tmp[3])\n",
    "        self.score = None\n",
    "        self.grade = None\n",
    "        \n",
    "    def total_score(self):\n",
    "        test_score = ((self.midterm + self.final)/2)*0.8\n",
    "        \n",
    "        if self.assignment >= 3:\n",
    "            assign_score = 20\n",
    "        elif self.assignment >= 2:\n",
    "            assign_score = 10\n",
    "        elif self.assignment >= 1:\n",
    "            assign_score = 5\n",
    "        else:\n",
    "            assign_score = 0\n",
    "            \n",
    "        self.score = test_score + assign_score\n",
    "        \n",
    "    def total_grade(self):\n",
    "        if self.assignment==0:\n",
    "            grade = \"F\"\n",
    "        elif self.score >= 90:\n",
    "            grade = \"A\"\n",
    "        elif self.score >= 70:\n",
    "            grade = \"B\"\n",
    "        elif self.score >= 60:\n",
    "            grade = \"C\"\n",
    "        else:\n",
    "            grade = \"F\"\n",
    "            \n",
    "        self.grade = grade\n",
    "        return grade\n",
    "    "
   ]
  },
  {
   "cell_type": "code",
   "execution_count": 33,
   "metadata": {},
   "outputs": [
    {
     "name": "stdout",
     "output_type": "stream",
     "text": [
      "None F 72.0 F\n"
     ]
    }
   ],
   "source": [
    "student_john = Score(\"john, 90, 90, 0\")\n",
    "aa = student_john.total_score()\n",
    "bb = student_john.total_grade()\n",
    "print(aa,bb,student_john.score, student_john.grade)"
   ]
  },
  {
   "cell_type": "markdown",
   "metadata": {},
   "source": [
    "### 11.\n",
    "#### 답:\n",
    "#### 아이스크림을 레인보우샤베트에서 바람과 함께 사라지다로 변경해주세요.\n",
    "#### 아이스크림 맛을 바람과 함께 사라지다로 변경해드렸어요."
   ]
  },
  {
   "cell_type": "code",
   "execution_count": 36,
   "metadata": {},
   "outputs": [],
   "source": [
    "class IceCream(object):\n",
    "    def __init__(self, flavor):\n",
    "        self.flavor = flavor\n",
    "    def change_flavor(self, new_flavor):\n",
    "        print('아이스크림을 %s에서 %s로 변경해주세요.'%(self.flavor, new_flavor))\n",
    "        self.flavor = new_flavor\n",
    "        print('아이스크림 맛을 %s로 변경해드렸어요.'%self.flavor)"
   ]
  },
  {
   "cell_type": "code",
   "execution_count": 37,
   "metadata": {},
   "outputs": [
    {
     "name": "stdout",
     "output_type": "stream",
     "text": [
      "아이스크림을 레인보우샤베트에서 바람과 함께 사라지다로 변경해주세요.\n",
      "아이스크림 맛을 바람과 함께 사라지다로 변경해드렸어요.\n"
     ]
    }
   ],
   "source": [
    "ice_cream = IceCream('레인보우샤베트')\n",
    "ice_cream.change_flavor('바람과 함께 사라지다')"
   ]
  },
  {
   "cell_type": "markdown",
   "metadata": {},
   "source": [
    "### 12.\n",
    "#### 답 : Mineral:72"
   ]
  },
  {
   "cell_type": "code",
   "execution_count": 14,
   "metadata": {},
   "outputs": [],
   "source": [
    "class Terran(object):\n",
    "    def __init__(self, mineral):\n",
    "        self.scv = 4\n",
    "        self.marine = 0\n",
    "        self.medic = 0\n",
    "        self.mineral = mineral\n",
    "    def command(self, SCV=False):\n",
    "        self.mineral += 8*self.scv\n",
    "        #print(\"Mineral command:{}\".format(self.mineral))\n",
    "        if SCV:\n",
    "            self.scv +=1\n",
    "            self.mineral -=10\n",
    "            #print(\"Mineral SCV:{0}, scv:{1}\".format(self.mineral, self.scv))\n",
    "    def barrack(self, Marine=False, Medic=False):\n",
    "        self.mineral += 8*self.scv\n",
    "        #print(\"Mineral barrack:{}\".format(self.mineral))\n",
    "        if Marine:\n",
    "            self.marine +=1\n",
    "            self.mineral -= 15\n",
    "            #print(\"Mineral Marine:{0}, scv:{1}\".format(self.mineral, self.scv))\n",
    "        if Medic:\n",
    "            self.marine += 1\n",
    "            self.mineral -=25\n",
    "            #print(\"Mineral Medic:{0}, scv:{1}\".format(self.mineral, self.scv))\n",
    "    def check_source(self):\n",
    "        print(\"Mineral:\" +str(self.mineral))"
   ]
  },
  {
   "cell_type": "code",
   "execution_count": 15,
   "metadata": {},
   "outputs": [
    {
     "name": "stdout",
     "output_type": "stream",
     "text": [
      "Mineral:72\n"
     ]
    }
   ],
   "source": [
    "User=Terran(50)\n",
    "User.command(True)\n",
    "User.barrack(True, True)\n",
    "User.check_source()"
   ]
  },
  {
   "cell_type": "code",
   "execution_count": 16,
   "metadata": {},
   "outputs": [
    {
     "name": "stdout",
     "output_type": "stream",
     "text": [
      "Mineral:114\n"
     ]
    }
   ],
   "source": [
    "#코드를 비교하여 이해하자.\n",
    "User=Terran(50)\n",
    "User.command()\n",
    "User.barrack()\n",
    "User.check_source()"
   ]
  }
 ],
 "metadata": {
  "kernelspec": {
   "display_name": "Python 3",
   "language": "python",
   "name": "python3"
  },
  "language_info": {
   "codemirror_mode": {
    "name": "ipython",
    "version": 3
   },
   "file_extension": ".py",
   "mimetype": "text/x-python",
   "name": "python",
   "nbconvert_exporter": "python",
   "pygments_lexer": "ipython3",
   "version": "3.7.6"
  }
 },
 "nbformat": 4,
 "nbformat_minor": 4
}
