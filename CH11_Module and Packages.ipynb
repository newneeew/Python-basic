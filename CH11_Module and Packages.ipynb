{
 "cells": [
  {
   "cell_type": "markdown",
   "metadata": {},
   "source": [
    "# [파이썬기초]CH11_모듈과 패키지"
   ]
  },
  {
   "cell_type": "markdown",
   "metadata": {},
   "source": [
    "### 1.\n",
    "#### 답 : 3번\n",
    "* 개별 .py는 module을 의미한다."
   ]
  },
  {
   "cell_type": "markdown",
   "metadata": {},
   "source": [
    "### 2.\n",
    "#### 답 : 3번"
   ]
  },
  {
   "cell_type": "markdown",
   "metadata": {},
   "source": [
    "### 3."
   ]
  },
  {
   "cell_type": "code",
   "execution_count": 5,
   "metadata": {},
   "outputs": [
    {
     "name": "stdout",
     "output_type": "stream",
     "text": [
      "Writing fah_converter.py\n"
     ]
    }
   ],
   "source": [
    "%%writefile fah_converter.py\n",
    "def convert_c_to_f(celsius_value):\n",
    "    return celsius_value * 9.0 / 5 + 32\n",
    "\n",
    "test_value = 0"
   ]
  },
  {
   "cell_type": "code",
   "execution_count": 1,
   "metadata": {},
   "outputs": [
    {
     "name": "stdout",
     "output_type": "stream",
     "text": [
      "Enter a celsius value: \n",
      "100\n",
      "That's  212.0  degrees Fahrenheit\n"
     ]
    }
   ],
   "source": [
    "import fah_converter as fah\n",
    "print(\"Enter a celsius value: \")\n",
    "celsius = float(input())\n",
    "fahrenheit = fah.convert_c_to_f(celsius)\n",
    "print(\"That's \", fahrenheit, \" degrees Fahrenheit\")"
   ]
  },
  {
   "cell_type": "markdown",
   "metadata": {},
   "source": [
    "### 4.\n",
    "#### 답: 상대참조"
   ]
  },
  {
   "cell_type": "markdown",
   "metadata": {},
   "source": [
    "### 5."
   ]
  },
  {
   "cell_type": "code",
   "execution_count": 7,
   "metadata": {},
   "outputs": [
    {
     "name": "stdout",
     "output_type": "stream",
     "text": [
      "Writing sample.py\n"
     ]
    }
   ],
   "source": [
    "%%writefile sample.py\n",
    "def test():\n",
    "    c = input()\n",
    "    a = 1\n",
    "    b = 4\n",
    "    print(\"a + b\" + c)"
   ]
  },
  {
   "cell_type": "code",
   "execution_count": 8,
   "metadata": {},
   "outputs": [
    {
     "name": "stdout",
     "output_type": "stream",
     "text": [
      "4\n",
      "a + b4\n"
     ]
    }
   ],
   "source": [
    "import sample as gc\n",
    "gc.test()"
   ]
  },
  {
   "cell_type": "markdown",
   "metadata": {},
   "source": [
    "### 6.\n",
    "#### 답 : 2번"
   ]
  },
  {
   "cell_type": "markdown",
   "metadata": {},
   "source": [
    "### 7."
   ]
  },
  {
   "cell_type": "code",
   "execution_count": 14,
   "metadata": {},
   "outputs": [
    {
     "name": "stdout",
     "output_type": "stream",
     "text": [
      "Overwriting calculator.py\n"
     ]
    }
   ],
   "source": [
    "%%writefile calculator.py\n",
    "def sum_func(a, b):\n",
    "    return a + b\n",
    "def multiply_func(a, b):\n",
    "    return a * b\n",
    "def minus_func(a, b):\n",
    "    return a - b\n",
    "def devide_func(a, b):\n",
    "    return a / b"
   ]
  },
  {
   "cell_type": "code",
   "execution_count": 15,
   "metadata": {},
   "outputs": [
    {
     "name": "stdout",
     "output_type": "stream",
     "text": [
      "사칙연산 프로그램: 5 * 4\n",
      "실행결과는 20\n"
     ]
    }
   ],
   "source": [
    "from calculator import *\n",
    "user_input = input(\"사칙연산 프로그램: \").split(\" \")\n",
    "first_val, second_val = int(user_input[0]), int(user_input[2])\n",
    "fourcal = user_input[1]\n",
    "\n",
    "if fourcal == \"+\":\n",
    "    result = sum_func(first_val, second_val)\n",
    "elif fourcal == \"-\":\n",
    "    result = minus_func(first_cval, second_val)\n",
    "elif fourcal == \"/\":\n",
    "    result = devide_func(first_val, second_val)\n",
    "else:\n",
    "    result = multiply_func(first_val, second_val)\n",
    "    \n",
    "print(\"실행결과는\", result)"
   ]
  },
  {
   "cell_type": "markdown",
   "metadata": {},
   "source": [
    "### 8."
   ]
  },
  {
   "cell_type": "code",
   "execution_count": 16,
   "metadata": {},
   "outputs": [
    {
     "name": "stdout",
     "output_type": "stream",
     "text": [
      "Writing quiz.py\n"
     ]
    }
   ],
   "source": [
    "%%writefile quiz.py\n",
    "def quiz():\n",
    "    user_input = input()\n",
    "    if int(user_input) > 3:\n",
    "        print(user_input)\n",
    "    else:\n",
    "        print(\"user_input\")"
   ]
  },
  {
   "cell_type": "code",
   "execution_count": 17,
   "metadata": {},
   "outputs": [
    {
     "name": "stdout",
     "output_type": "stream",
     "text": [
      "2\n",
      "user_input\n"
     ]
    }
   ],
   "source": [
    "import quiz as q\n",
    "q.quiz()"
   ]
  },
  {
   "cell_type": "markdown",
   "metadata": {},
   "source": [
    "### 9."
   ]
  },
  {
   "cell_type": "markdown",
   "metadata": {},
   "source": [
    "|가상환경 도구|특징|\n",
    "|:--------------------|:---------------------|\n",
    "|virtualenv + pip|- 가장 대표적인 가상환경 관리 도구, 레퍼런스와 패키지가 가장 많음|\n",
    "|conda|상용 가상환경 도구인 miniconda의 기본 가상환경 도구, 설치가 쉬워 windows에서유용함|"
   ]
  },
  {
   "cell_type": "markdown",
   "metadata": {},
   "source": [
    "### 10.\n",
    "#### 답: \n",
    "알리아스(alias)는 일종의 별칭으로, 모듈의 이름이 너무 길거나 다른 코드와 헷갈리는 이름을 가졌을 때 모듈의 이름을 바꿔 namespace를 지정하는 방법이다.   \n",
    "as 키워드를 사용하여 모듈의 이름을 간단히 지정 가능하다."
   ]
  }
 ],
 "metadata": {
  "kernelspec": {
   "display_name": "Python 3",
   "language": "python",
   "name": "python3"
  },
  "language_info": {
   "codemirror_mode": {
    "name": "ipython",
    "version": 3
   },
   "file_extension": ".py",
   "mimetype": "text/x-python",
   "name": "python",
   "nbconvert_exporter": "python",
   "pygments_lexer": "ipython3",
   "version": "3.8.2"
  }
 },
 "nbformat": 4,
 "nbformat_minor": 4
}
